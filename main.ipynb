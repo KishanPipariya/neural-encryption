{
 "cells": [
  {
   "cell_type": "code",
   "execution_count": 122,
   "metadata": {},
   "outputs": [],
   "source": [
    "import tensorflow as tf"
   ]
  },
  {
   "cell_type": "code",
   "execution_count": 123,
   "metadata": {},
   "outputs": [],
   "source": [
    "#Ensures same random number are generated during each run\n",
    "tf.random.set_seed(42)"
   ]
  },
  {
   "cell_type": "code",
   "execution_count": 124,
   "metadata": {},
   "outputs": [
    {
     "name": "stdout",
     "output_type": "stream",
     "text": [
      "0b1010 <class 'str'>\n"
     ]
    },
    {
     "data": {
      "text/plain": [
       "[1, 1, 0, 0, 0, 0, 1]"
      ]
     },
     "execution_count": 124,
     "metadata": {},
     "output_type": "execute_result"
    }
   ],
   "source": [
    "b = bin(10)\n",
    "print(b, type(b))\n",
    "\n",
    "def alph_to_bin(al):\n",
    "    ch = bin(al)[2:]\n",
    "    ch = list(ch)\n",
    "    ch = list(map(int, ch))\n",
    "    return ch\n",
    "\n",
    "alph_to_bin(ord('a'))"
   ]
  },
  {
   "cell_type": "code",
   "execution_count": 125,
   "metadata": {},
   "outputs": [
    {
     "name": "stdout",
     "output_type": "stream",
     "text": [
      "a [1, 1, 0, 0, 0, 0, 1]\n",
      "b [1, 1, 0, 0, 0, 1, 0]\n",
      "c [1, 1, 0, 0, 0, 1, 1]\n",
      "d [1, 1, 0, 0, 1, 0, 0]\n",
      "e [1, 1, 0, 0, 1, 0, 1]\n",
      "f [1, 1, 0, 0, 1, 1, 0]\n",
      "g [1, 1, 0, 0, 1, 1, 1]\n",
      "h [1, 1, 0, 1, 0, 0, 0]\n",
      "i [1, 1, 0, 1, 0, 0, 1]\n",
      "j [1, 1, 0, 1, 0, 1, 0]\n",
      "k [1, 1, 0, 1, 0, 1, 1]\n",
      "l [1, 1, 0, 1, 1, 0, 0]\n",
      "m [1, 1, 0, 1, 1, 0, 1]\n",
      "n [1, 1, 0, 1, 1, 1, 0]\n",
      "o [1, 1, 0, 1, 1, 1, 1]\n",
      "p [1, 1, 1, 0, 0, 0, 0]\n",
      "q [1, 1, 1, 0, 0, 0, 1]\n",
      "r [1, 1, 1, 0, 0, 1, 0]\n",
      "s [1, 1, 1, 0, 0, 1, 1]\n",
      "t [1, 1, 1, 0, 1, 0, 0]\n",
      "u [1, 1, 1, 0, 1, 0, 1]\n",
      "v [1, 1, 1, 0, 1, 1, 0]\n",
      "w [1, 1, 1, 0, 1, 1, 1]\n",
      "x [1, 1, 1, 1, 0, 0, 0]\n",
      "y [1, 1, 1, 1, 0, 0, 1]\n",
      "z [1, 1, 1, 1, 0, 1, 0]\n"
     ]
    }
   ],
   "source": [
    "for i in range(ord('a'), ord('z') + 1):\n",
    "    print(chr(i), alph_to_bin(i))"
   ]
  },
  {
   "cell_type": "code",
   "execution_count": 126,
   "metadata": {},
   "outputs": [
    {
     "name": "stdout",
     "output_type": "stream",
     "text": [
      "Model: \"sequential_21\"\n",
      "_________________________________________________________________\n",
      " Layer (type)                Output Shape              Param #   \n",
      "=================================================================\n",
      " dense_41 (Dense)            (None, 16)                128       \n",
      "                                                                 \n",
      " dense_42 (Dense)            (None, 7)                 119       \n",
      "                                                                 \n",
      "=================================================================\n",
      "Total params: 247\n",
      "Trainable params: 247\n",
      "Non-trainable params: 0\n",
      "_________________________________________________________________\n"
     ]
    }
   ],
   "source": [
    "input_shape = (7,)\n",
    "\n",
    "model = tf.keras.Sequential()\n",
    "\n",
    "model.add(tf.keras.layers.Dense(16, input_shape=input_shape, activation='relu', kernel_initializer='random_normal'))\n",
    "model.add(tf.keras.layers.Dense(7, activation='linear', kernel_initializer='random_normal'))\n",
    "model.summary()"
   ]
  },
  {
   "cell_type": "code",
   "execution_count": 127,
   "metadata": {},
   "outputs": [
    {
     "name": "stdout",
     "output_type": "stream",
     "text": [
      "1/1 [==============================] - 0s 114ms/step\n"
     ]
    },
    {
     "data": {
      "text/plain": [
       "array([[ 0.00116956,  0.01356383,  0.00380843, -0.00810965,  0.00214311,\n",
       "        -0.00375888, -0.00157609]], dtype=float32)"
      ]
     },
     "execution_count": 127,
     "metadata": {},
     "output_type": "execute_result"
    }
   ],
   "source": [
    "# model.predict(tf.constant(alph_to_bin(ord('a'))))\n",
    "# tf.constant(alph_to_bin(ord('a')))\n",
    "input_tensor = tf.convert_to_tensor(alph_to_bin(ord('a')), dtype=tf.float32)\n",
    "input_tensor = tf.reshape(input_tensor, (7,))\n",
    "model.predict(tf.expand_dims(input_tensor, axis=0))"
   ]
  }
 ],
 "metadata": {
  "kernelspec": {
   "display_name": "neural-enc",
   "language": "python",
   "name": "python3"
  },
  "language_info": {
   "codemirror_mode": {
    "name": "ipython",
    "version": 3
   },
   "file_extension": ".py",
   "mimetype": "text/x-python",
   "name": "python",
   "nbconvert_exporter": "python",
   "pygments_lexer": "ipython3",
   "version": "3.10.13"
  }
 },
 "nbformat": 4,
 "nbformat_minor": 2
}
